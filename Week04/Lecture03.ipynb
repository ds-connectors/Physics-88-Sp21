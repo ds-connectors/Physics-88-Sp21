{
 "cells": [
  {
   "cell_type": "markdown",
   "metadata": {},
   "source": [
    "### Physics 77, Lecture 3: Functions, Loops"
   ]
  },
  {
   "cell_type": "markdown",
   "metadata": {},
   "source": [
    "## Outline for Lecture 3\n",
    "- Address questions\n",
    "- Functions\n",
    "- Conditionals\n",
    "- Loops\n"
   ]
  },
  {
   "cell_type": "markdown",
   "metadata": {},
   "source": [
    "# Recap: Week 3 (Lecture02)\n",
    "\n",
    "- Composite structures: lists, tuples, dictionary, numpy arrays\n"
   ]
  },
  {
   "cell_type": "markdown",
   "metadata": {},
   "source": [
    "## Feedback (thanks!)\n",
    "\n",
    "* Left- vs right justification (in formatted and unformatted output)\n",
    "\n",
    "Justification describes alignment of the text within a field of some predefined width. When the text doesn't fill the field completely, there is extra white space. The text can either start in the left-most column of the field (left justification), pushing white space to the end of the field. Or you may choose to push the text to all the way to the right side of the field (right justification), hence keeping white space before the text. Or you may choose to split the difference (centered text). Examples:"
   ]
  },
  {
   "cell_type": "code",
   "execution_count": null,
   "metadata": {},
   "outputs": [],
   "source": [
    "printMe = \"some text\"\n",
    "left_boundary = \"field starts here|\"\n",
    "right_boundary = \"|and ends here\"\n",
    "field_width = len(printMe)+5 # add 5 spaces to the text\n",
    "print(\"Allocate\",field_width,\"characters to the field\")\n",
    "\n",
    "print(printMe)\n",
    "print(1,2,3,3.1415)\n",
    "\n",
    "print(\"\\nleft justification:\")\n",
    "print(left_boundary,printMe.ljust(field_width),right_boundary)\n",
    "\n",
    "print(\"\\nright justification:\")\n",
    "print(left_boundary,printMe.rjust(field_width),right_boundary)\n",
    "\n",
    "print(\"\\ncentered:\")\n",
    "print(left_boundary,printMe.center(field_width),right_boundary)"
   ]
  },
  {
   "cell_type": "markdown",
   "metadata": {},
   "source": [
    "Notice an exta space added before and after the text ! \n",
    "*Question for the audience*: is there a way to avoid this extra space ? \n"
   ]
  },
  {
   "cell_type": "code",
   "execution_count": null,
   "metadata": {},
   "outputs": [],
   "source": [
    "print(\"\\nleft justification:\")\n",
    "print(left_boundary+printMe.ljust(field_width)+right_boundary)\n",
    "\n",
    "print(\"\\nright justification:\")\n",
    "print(left_boundary+printMe.rjust(field_width)+right_boundary)\n",
    "\n",
    "print(\"\\ncentered:\")\n",
    "print(left_boundary+printMe.center(field_width)+right_boundary)"
   ]
  },
  {
   "cell_type": "markdown",
   "metadata": {},
   "source": [
    "By default, in _unformatted_ output, all fields take exactly the right number of characters, so there is no white space to worry about. "
   ]
  },
  {
   "cell_type": "code",
   "execution_count": null,
   "metadata": {},
   "outputs": [],
   "source": [
    "print(\"default print:\")\n",
    "print(left_boundary,printMe,right_boundary)\n"
   ]
  },
  {
   "cell_type": "markdown",
   "metadata": {},
   "source": [
    "However, if you use `format()` and specify the width of a field, the default is to left-justify strings and right-justify numbers, e.g.:"
   ]
  },
  {
   "cell_type": "code",
   "execution_count": null,
   "metadata": {},
   "outputs": [],
   "source": [
    "print(\"default formatted print:\")\n",
    "out = left_boundary+\"{0:14s}\".format(printMe)+right_boundary\n",
    "print(out)\n",
    "\n",
    "out = left_boundary+\"{0:14.4f}\".format(3.1415)+right_boundary\n",
    "print(out)\n",
    "out = left_boundary+\"{0:14.4f}\".format(133.1415)+right_boundary\n",
    "print(out)"
   ]
  },
  {
   "cell_type": "markdown",
   "metadata": {},
   "source": [
    "You can use `<`, `>`, and `^` operators to specify justification rules:"
   ]
  },
  {
   "cell_type": "code",
   "execution_count": null,
   "metadata": {},
   "outputs": [],
   "source": [
    "print('Left-justified:')\n",
    "out = left_boundary+\"{0:<14s}\".format(printMe)+right_boundary\n",
    "print(out)\n",
    "\n",
    "out = left_boundary+\"{0:<14.4f}\".format(3.1415)+right_boundary\n",
    "print(out)\n",
    "\n",
    "print('\\nRight-justified:')\n",
    "out = left_boundary+\"{0:>14s}\".format(printMe)+right_boundary\n",
    "print(out)\n",
    "\n",
    "out = left_boundary+\"{0:>14.4f}\".format(3.1415)+right_boundary\n",
    "print(out)\n",
    "\n",
    "print('\\nCentered:')\n",
    "out = left_boundary+\"{0:^14s}\".format(printMe)+right_boundary\n",
    "print(out)\n",
    "\n",
    "out = left_boundary+\"{0:^14.4f}\".format(3.1415)+right_boundary\n",
    "print(out)"
   ]
  },
  {
   "cell_type": "markdown",
   "metadata": {},
   "source": [
    "When is this useful ? Mosty when formatting tables for easier parsing by a human. "
   ]
  },
  {
   "cell_type": "markdown",
   "metadata": {},
   "source": [
    "## Functions\n",
    "\n",
    "A function is a self-contained named piece of code that can be used by other parts of the code. Functions usually take arguments (parameters, variables), and return a value. Trig functions are a standard example. Most languages allow you to define your own functions. Functions can be group into a library, usually according to functionality they provide (e.g. math, complex numbers, linear algebra, plotting, etc).\n",
    "\n",
    "In a way, Python functions can be viewed mathematical functions:\n",
    "\n",
    "$f: \\mathbb{X} \\rightarrow \\mathbb{Y}$\n",
    "\n",
    "where $\\mathbb{X}$ and $\\mathbb{Y}$ can be whichever space of your choice.\n",
    "\n",
    "Python has 3 classes of functions:\n",
    "-  built-in functions, e.g. print()\n",
    "-  functions from packages/modules, e.g. sin() from the math package\n",
    "-  user-defined functions."
   ]
  },
  {
   "cell_type": "markdown",
   "metadata": {},
   "source": [
    "**Example 1: absolute value**\n",
    "\n",
    "$\\text{abs}: \\mathbb{R} \\rightarrow \\mathbb{R}^+_0$\n",
    "\n",
    "Mathematical implementation:\n",
    "\n",
    "$x = \\sqrt{x^2}$"
   ]
  },
  {
   "cell_type": "code",
   "execution_count": null,
   "metadata": {},
   "outputs": [],
   "source": [
    "x = -3\n",
    "r = abs(x)   # Call the abs() function \n",
    "print(r)     # Call the print() function!"
   ]
  },
  {
   "cell_type": "markdown",
   "metadata": {},
   "source": [
    "**Example 2: type casting**\n",
    "\n",
    "In python one can convert variables from one type to the other using dedicated predefined functions. One example is the <font color=blue>float</font> function:"
   ]
  },
  {
   "cell_type": "code",
   "execution_count": 2,
   "metadata": {},
   "outputs": [
    {
     "name": "stdout",
     "output_type": "stream",
     "text": [
      "a= 1.4 <class 'float'>\n",
      "i= 1 <class 'int'>\n",
      "b= 1.4 <class 'float'>\n",
      "c= 2 <class 'int'>\n",
      "d= 2.0 <class 'float'>\n",
      "e= 45 <class 'str'>\n",
      "Eval of e =  45 <class 'int'>\n",
      "f= 45.0 <class 'float'>\n"
     ]
    }
   ],
   "source": [
    "import numpy as np\n",
    "\n",
    "a = 1.4\n",
    "b = float(a) # casting a float to a float. Actually quite useless\n",
    "i = int(a)\n",
    "c = 2\n",
    "d = float(c) # casting an integer to a float\n",
    "e = \"np.sqrt(5.)\"\n",
    "e = \"45\"\n",
    "ff = eval(e)\n",
    "f = float(e) # casting a string to a float. Note: this is a special feature of Python ! \n",
    "print('a=',a, type(a))\n",
    "print('i=',i,type(i))\n",
    "print('b=',b, type(b))\n",
    "print('c=',c, type(c))\n",
    "print('d=',d, type(d))\n",
    "print('e=',e, type(e))\n",
    "print('Eval of e = ',ff,type(ff))\n",
    "print('f=',f, type(f))"
   ]
  },
  {
   "cell_type": "markdown",
   "metadata": {},
   "source": [
    "### User defined functions\n",
    "\n",
    "If the function we need doesn't exist, we can create one. In order to do so, we need to provide:\n",
    "- name of the function\n",
    "-  a list of arguments\n",
    "-  the algorithm of the function\n",
    "-  the return value\n",
    "\n",
    "The basic structure of a function is the following:"
   ]
  },
  {
   "cell_type": "code",
   "execution_count": null,
   "metadata": {},
   "outputs": [],
   "source": [
    "'''\n",
    "\n",
    "This function computes a square of the argument.\n",
    "Argument(s): number\n",
    "Returns: number squared\n",
    "\n",
    "'''\n",
    "def MySquare( x ):\n",
    "    y = x*x            \n",
    "    return y\n",
    "\n",
    "retVal = MySquare(3.)\n",
    "print( 'retVal = ', retVal, ' and has type', type(retVal) ) \n",
    "\n",
    "x = MySquare(15)+75+MySquare(3.14)**2\n",
    "print(x)"
   ]
  },
  {
   "cell_type": "code",
   "execution_count": null,
   "metadata": {},
   "outputs": [],
   "source": [
    "y = MySquare(173)\n",
    "print(y)\n",
    "print(173**2)"
   ]
  },
  {
   "cell_type": "markdown",
   "metadata": {},
   "source": [
    "Notice:\n",
    "-  the colon at the end of the function declaration\n",
    "-  the indentation\n",
    "-  the <font color=blue>return</font> command at the end of the function body\n",
    "\n",
    "**Example: $\\sin{(x)}/x$**"
   ]
  },
  {
   "cell_type": "code",
   "execution_count": null,
   "metadata": {},
   "outputs": [],
   "source": [
    "import matplotlib.pyplot as plt # we need this for drawing\n",
    "import numpy as np              # for the sin and linspace function\n",
    "\n",
    "def SinXoverX( x ):  # declaration\n",
    "    y = np.sin(x)/x  # implementation. Question: is this safe ?!\n",
    "    return y         # return\n",
    "\n",
    "x = np.linspace( -100, 100., 200 ) # generate 200 points evenly distributed between 0.5 and 100.\n",
    "# if a plot function doesn't show anything, run this and then the plot function again\n",
    "%matplotlib inline\n",
    "plt.plot( x, y, 'r-' )"
   ]
  },
  {
   "cell_type": "code",
   "execution_count": null,
   "metadata": {},
   "outputs": [],
   "source": [
    "print(SinXoverX(0.))"
   ]
  },
  {
   "cell_type": "markdown",
   "metadata": {},
   "source": [
    "**Example: function with multiple arguments**"
   ]
  },
  {
   "cell_type": "code",
   "execution_count": null,
   "metadata": {},
   "outputs": [],
   "source": [
    "def distance( x, y ):\n",
    "    return abs(x-y) # It's a very simple calculation, so I can implement it directly in the return statement\n",
    "\n",
    "print( distance( 2., 4. ) )\n",
    "print( distance( 2, 4 ) )"
   ]
  },
  {
   "cell_type": "markdown",
   "metadata": {},
   "source": [
    "**Required and optional arguments**\n",
    "\n",
    "Python functions can have two types of arguments: required and optional. Required arguments have no default value and must be passed by the user. Optional arguments have a default value which is used if not specified by the user.\n",
    "For example, let's rewrite the <font color=blue>distance</font> function with the second argument as optional:"
   ]
  },
  {
   "cell_type": "code",
   "execution_count": null,
   "metadata": {},
   "outputs": [],
   "source": [
    "def distance( x, y=0. ):\n",
    "    print('x=',x,'y=',y)\n",
    "    return abs(x-y)\n",
    "\n",
    "distance(7)\n",
    "print( distance( 2., 4. ) )\n",
    "print( distance( 1. ) )\n",
    "print( distance(y=15,x=10) )  # you can supply explicit names to the arguments"
   ]
  },
  {
   "cell_type": "markdown",
   "metadata": {},
   "source": [
    "**Function features to keep in mind**\n",
    "\n",
    "-  Python allows also functions with no return value. Why? Sometimes a function is used to do things. e.g. if you want to compute the same quantity many times, and print it.\n",
    "- Functions can return multiple values\n",
    "-  Functions can only be used after they are defined. It is good practice to define them at the beginning of a script/notebook.\n",
    "-  You can put the function definitions in a separate file and import it. This is useful if you have some generic function that you use in many different programs."
   ]
  },
  {
   "cell_type": "code",
   "execution_count": null,
   "metadata": {},
   "outputs": [],
   "source": [
    "def NoReturnValue(x):\n",
    "    print(x)\n",
    "    return\n",
    "\n",
    "def coordinate():\n",
    "    x = 1.\n",
    "    y = 2.\n",
    "    z = 3.\n",
    "    return x,y,z\n",
    "\n",
    "output = coordinate()\n",
    "print(type(output))\n",
    "print(output)\n",
    "\n",
    "x,y,z = coordinate() # unpack\n",
    "print(type(x),x)"
   ]
  },
  {
   "cell_type": "code",
   "execution_count": 1,
   "metadata": {},
   "outputs": [
    {
     "name": "stdout",
     "output_type": "stream",
     "text": [
      "0.24197072451914337\n",
      "6.25\n"
     ]
    }
   ],
   "source": [
    "import UserFunction as uf\n",
    "print(uf.Gauss(1))\n",
    "\n",
    "y = uf.Square(2.5)\n",
    "print(y)"
   ]
  },
  {
   "cell_type": "markdown",
   "metadata": {},
   "source": [
    "## Conditionals\n",
    "\n",
    "Conditionals are commands that are executed only if some condition is satisfied.\n",
    "Beware! Indentation is important in Python. Note, that it doesn't really matter how broad the indentation is.\n",
    "\n",
    "\n",
    "**Example: Heaviside step function**\n",
    "\n",
    "All the functions we considered so far were well behaved. But how do we code a step function in Python?\n",
    "\n",
    "$y = f(x) =\n",
    "\\begin{cases}\n",
    "0 \\quad \\text{if}\\quad x<0 \\\\\n",
    "1 \\quad \\text{if}\\quad x\\geq0\n",
    "\\end{cases}\n",
    "$"
   ]
  },
  {
   "cell_type": "code",
   "execution_count": 4,
   "metadata": {},
   "outputs": [],
   "source": [
    "def Theta( x ):\n",
    "    if x < 0.:\n",
    "        print('In the negative branch')\n",
    "        return 0.\n",
    "    \n",
    "    print('In the positive branch')\n",
    "    return 1.\n"
   ]
  },
  {
   "cell_type": "code",
   "execution_count": 7,
   "metadata": {},
   "outputs": [
    {
     "name": "stdout",
     "output_type": "stream",
     "text": [
      "Enter numerical value: np.log10(0.1)\n",
      "<class 'str'>\n",
      "-1.0\n",
      "In the negative branch\n",
      "0.0\n"
     ]
    }
   ],
   "source": [
    "xraw = input('Enter numerical value: ') # Ask the user to privide a value\n",
    "print(type(xraw))   # beware ! In Python 3 this returns a string, which needs to be converted to int or float type\n",
    "x = eval(xraw)      # Also beware of potential security risks (buffer overflow)\n",
    "print(x)\n",
    "#print( Theta(float(xraw)) )\n",
    "print( Theta(x))"
   ]
  },
  {
   "cell_type": "markdown",
   "metadata": {},
   "source": [
    "An important thing to take into account is the indentation!"
   ]
  },
  {
   "cell_type": "code",
   "execution_count": 16,
   "metadata": {},
   "outputs": [
    {
     "name": "stdout",
     "output_type": "stream",
     "text": [
      "50\n"
     ]
    }
   ],
   "source": [
    "x=-50\n",
    "if x < 0 :\n",
    "    x = -x   # only executed for negative numbers\n",
    "    if x < -100 : \n",
    "        print('Very small')\n",
    "    print ('This was a negative value')\n",
    "print (x)    # always executed"
   ]
  },
  {
   "cell_type": "markdown",
   "metadata": {},
   "source": [
    "Sometimes you may want to do two different things:"
   ]
  },
  {
   "cell_type": "code",
   "execution_count": 11,
   "metadata": {},
   "outputs": [
    {
     "name": "stdout",
     "output_type": "stream",
     "text": [
      "Enter numerical value: -123\n",
      "Negative branch\n",
      "133.0\n"
     ]
    }
   ],
   "source": [
    "xsum = 10\n",
    "xraw = input('Enter numerical value: ')\n",
    "x=float(xraw)\n",
    "if x < 0 :\n",
    "    xsum -= x\n",
    "    print('Negative branch')\n",
    "else :\n",
    "    xsum += x\n",
    "    print('Positive branch')\n",
    "print (xsum)"
   ]
  },
  {
   "cell_type": "markdown",
   "metadata": {},
   "source": [
    "And sometimes you may need to have several branches"
   ]
  },
  {
   "cell_type": "code",
   "execution_count": 18,
   "metadata": {
    "scrolled": true
   },
   "outputs": [
    {
     "name": "stdout",
     "output_type": "stream",
     "text": [
      "Enter numerical value: -100\n",
      "0\n"
     ]
    }
   ],
   "source": [
    "value = 0 # this line is not needed\n",
    "x = float(input('Enter numerical value: '))\n",
    "if x > 10 :\n",
    "    value = -1\n",
    "elif x > 7 : # else if\n",
    "    value = 6\n",
    "elif x > -1 :\n",
    "    value = 1\n",
    "else :\n",
    "    value = 0\n",
    "    \n",
    "print (value)"
   ]
  },
  {
   "cell_type": "markdown",
   "metadata": {},
   "source": [
    "## Loops\n",
    "\n",
    "Loops represent a piece of code that is executed repeatedly. That's what the computers are made for !"
   ]
  },
  {
   "cell_type": "markdown",
   "metadata": {},
   "source": [
    "### While\n",
    "\n",
    "The while loop repeats and execution while (as long as) a condition is valid."
   ]
  },
  {
   "cell_type": "code",
   "execution_count": 27,
   "metadata": {},
   "outputs": [
    {
     "name": "stdout",
     "output_type": "stream",
     "text": [
      "final sum =  100 after  10 iterations\n"
     ]
    }
   ],
   "source": [
    "sum = 0\n",
    "count = 0\n",
    "while sum < 99:\n",
    "    sum += 10\n",
    "    count += 1\n",
    "#    print ('{0:2d} {1:3d}'.format(count,sum))\n",
    "    \n",
    "print ('final sum = ', sum, 'after ',count,'iterations')"
   ]
  },
  {
   "cell_type": "markdown",
   "metadata": {},
   "source": [
    "**Special keywords: break, continue, pass, else**\n",
    "\n",
    "`break`:"
   ]
  },
  {
   "cell_type": "code",
   "execution_count": 28,
   "metadata": {},
   "outputs": [
    {
     "name": "stdout",
     "output_type": "stream",
     "text": [
      "About to exit the loop\n",
      "-6000 600\n"
     ]
    }
   ],
   "source": [
    "sum = 0\n",
    "count = 0\n",
    "while sum < 100:\n",
    "    sum -= 10\n",
    "    count += 1\n",
    "    if count >= 600:\n",
    "        print('About to exit the loop')\n",
    "        break\n",
    "    \n",
    "print (sum, count)"
   ]
  },
  {
   "cell_type": "markdown",
   "metadata": {},
   "source": [
    "`continue`:"
   ]
  },
  {
   "cell_type": "code",
   "execution_count": 29,
   "metadata": {},
   "outputs": [
    {
     "name": "stdout",
     "output_type": "stream",
     "text": [
      "10\n",
      "20\n",
      "30\n",
      "40\n",
      "10000 1000\n"
     ]
    }
   ],
   "source": [
    "sum = 0\n",
    "count = 0\n",
    "while sum < 10000:\n",
    "    sum += 10\n",
    "    count += 1\n",
    "    if count > 4 :\n",
    "        continue\n",
    "    print (sum)\n",
    "    \n",
    "print (sum, count)"
   ]
  },
  {
   "cell_type": "markdown",
   "metadata": {},
   "source": [
    "`else`:"
   ]
  },
  {
   "cell_type": "code",
   "execution_count": 31,
   "metadata": {},
   "outputs": [
    {
     "name": "stdout",
     "output_type": "stream",
     "text": [
      "Finished without break\n",
      "100 10\n"
     ]
    }
   ],
   "source": [
    "sum = 0\n",
    "count = 0\n",
    "while sum < 100:\n",
    "    sum += 10\n",
    "    count += 1\n",
    "    if count >= 60:\n",
    "        print('break')\n",
    "        break\n",
    "else:                                     # beware of indentation !!!\n",
    "    print (\"Finished without break\")\n",
    "    \n",
    "    \n",
    "print (sum, count)"
   ]
  },
  {
   "cell_type": "markdown",
   "metadata": {},
   "source": [
    "Beware of infinite loops ! "
   ]
  },
  {
   "cell_type": "code",
   "execution_count": null,
   "metadata": {},
   "outputs": [],
   "source": [
    "sum = 0\n",
    "count = 0\n",
    "while sum < 100:\n",
    "#    sum -= 10       # typo ! \n",
    "    sum += 10       # fixed typo ! \n",
    "    count += 1\n",
    "    if count % 10000 == 0:\n",
    "        print(sum)\n",
    "    \n",
    "print (sum, count)"
   ]
  },
  {
   "cell_type": "markdown",
   "metadata": {},
   "source": [
    "## For\n",
    "\n",
    "The for loop is more conventional and repeats the execution for an index within a given range. This is similar to for() loop in C or other languages.\n",
    "\n",
    "An equivalent syntax in C would be for(int i=0;i<10;i++) {}"
   ]
  },
  {
   "cell_type": "code",
   "execution_count": 36,
   "metadata": {},
   "outputs": [
    {
     "name": "stdout",
     "output_type": "stream",
     "text": [
      "10 <class 'range'>\n",
      "range(0, 10)\n"
     ]
    }
   ],
   "source": [
    "list = range(0,10)\n",
    "print (len(list),type(list))\n",
    "print(list)  "
   ]
  },
  {
   "cell_type": "markdown",
   "metadata": {},
   "source": [
    "This is a bit counter-intuitive, so let's do this instead:"
   ]
  },
  {
   "cell_type": "code",
   "execution_count": 43,
   "metadata": {},
   "outputs": [
    {
     "name": "stdout",
     "output_type": "stream",
     "text": [
      "10 <class 'list'>\n",
      "[0, 1, 2, 3, 4, 5, 6, 7, 8, 9]\n"
     ]
    }
   ],
   "source": [
    "l = [*range(0,10)]\n",
    "print (len(l),type(l))\n",
    "print(l)  "
   ]
  },
  {
   "cell_type": "code",
   "execution_count": 44,
   "metadata": {},
   "outputs": [
    {
     "name": "stdout",
     "output_type": "stream",
     "text": [
      "0 0\n",
      "1 2\n",
      "2 4\n",
      "3 6\n",
      "4 8\n",
      "5 10\n",
      "6 12\n",
      "7 14\n",
      "8 16\n",
      "9 18\n"
     ]
    }
   ],
   "source": [
    "for i in l:    # loop from 0 to 10, not including 10, with step = 1\n",
    "    print (i, i*2)"
   ]
  },
  {
   "cell_type": "code",
   "execution_count": 32,
   "metadata": {},
   "outputs": [
    {
     "name": "stdout",
     "output_type": "stream",
     "text": [
      "0\n",
      "2\n",
      "4\n",
      "6\n",
      "8\n"
     ]
    }
   ],
   "source": [
    "for i in range(0,10,2):   # loop from 0 to 10, not including 10, with step = 2\n",
    "    print (i)"
   ]
  },
  {
   "cell_type": "code",
   "execution_count": 50,
   "metadata": {},
   "outputs": [
    {
     "name": "stdout",
     "output_type": "stream",
     "text": [
      "1.0 1.0\n",
      "2.0 4.0\n",
      "3.0 9.0\n",
      "4.0 16.0\n",
      "7.0 49.0\n",
      "111.0 12321.0\n",
      "67.0 4489.0\n",
      "12.0 144.0\n"
     ]
    }
   ],
   "source": [
    "MyList = [1,2,3,4,7,111.,67.] # iterate over elements of the tuple or list\n",
    "MyList.append(12)          # what happens here ? \n",
    "for x in np.array(MyList):\n",
    "    print (x,x**2)"
   ]
  },
  {
   "cell_type": "markdown",
   "metadata": {},
   "source": [
    "You can iterate over lists produced by other functions, e.g. a list of keys to a dictionary "
   ]
  },
  {
   "cell_type": "code",
   "execution_count": 58,
   "metadata": {},
   "outputs": [
    {
     "name": "stdout",
     "output_type": "stream",
     "text": [
      "['Billy', 'Heather', 'Johnny', 'Yury']\n",
      "Billy Jones\n",
      "Johnny Baker\n",
      "Heather Gray\n",
      "Yury Kolomensky\n",
      "\n",
      "\n",
      "Billy Jones\n",
      "Heather Gray\n",
      "Johnny Baker\n",
      "Yury Kolomensky\n"
     ]
    }
   ],
   "source": [
    "lastnames = {}                        # create a dictionary\n",
    "lastnames['Billy'] = 'Jones'\n",
    "lastnames['Johnny'] = 'Jones'\n",
    "lastnames['Johnny'] = 'Baker'\n",
    "lastnames['Heather'] = 'Gray'\n",
    "#lastnames[5] = 'Foo'\n",
    "\n",
    "#print(lastnames['Yury'])\n",
    "lastnames['Yury'] = 'Kolomensky'\n",
    "\n",
    "l = sorted(lastnames.keys(),reverse=False)\n",
    "#l = lastnames.keys()\n",
    "print (l)\n",
    "for key in lastnames.keys():          # iterate over elements of the dictionary\n",
    "    print (key, lastnames[key])\n",
    "\n",
    "print('\\n')\n",
    "    \n",
    "for key in l:          # iterate over elements of the dictionary\n",
    "    print (key, lastnames[key])\n"
   ]
  },
  {
   "cell_type": "markdown",
   "metadata": {},
   "source": [
    "\n",
    "### Nesting and recursive functions\n",
    "\n",
    "We have seen already a few examples of an if statement inside a while loop: this called nesting. Python sets no limit to nesting, i.e. you can have infinite statements and loops within each other."
   ]
  },
  {
   "cell_type": "code",
   "execution_count": 61,
   "metadata": {},
   "outputs": [
    {
     "name": "stdout",
     "output_type": "stream",
     "text": [
      "factorial(10)= 3628800\n",
      "factorial(1)= 1\n",
      "factorial(2)= 2\n",
      "factorial(3)= 6\n",
      "factorial(4)=24\n"
     ]
    }
   ],
   "source": [
    "def factorial(n):                # definition of the function\n",
    "    value = 1\n",
    "    for i in range(2,n+1):       # loop\n",
    "        value *= i               # increment factorial \n",
    "        \n",
    "    return value                 # return value\n",
    "\n",
    "print ('factorial(10)=',factorial(10))\n",
    "for i in range(1,5):\n",
    "    print ('factorial(%d)=%2d' % (i,factorial(i)))\n",
    "\n",
    "#print(factorial(1.1))"
   ]
  },
  {
   "cell_type": "markdown",
   "metadata": {},
   "source": [
    "Here is a more elegant way to implement the function (recursive). It also has basic error handling"
   ]
  },
  {
   "cell_type": "code",
   "execution_count": 68,
   "metadata": {
    "scrolled": true
   },
   "outputs": [
    {
     "name": "stdout",
     "output_type": "stream",
     "text": [
      "120\n"
     ]
    }
   ],
   "source": [
    "import numpy as np\n",
    "def factRecursive(n):\n",
    "    if n > 1:\n",
    "        return n*factRecursive(n-1)\n",
    "    \n",
    "    return 1\n",
    "\n",
    "print (factRecursive(5))"
   ]
  },
  {
   "cell_type": "code",
   "execution_count": 67,
   "metadata": {},
   "outputs": [
    {
     "name": "stdout",
     "output_type": "stream",
     "text": [
      "3628800\n",
      "-inf\n",
      "nan\n",
      "nan\n",
      "14400\n"
     ]
    }
   ],
   "source": [
    "import numpy as np\n",
    "def factRecursiveSafe(n):\n",
    "    '''Computes n!, input: integer, output: integer'''\n",
    "    if type(n)!=int:                     # these factorials defined only for integers\n",
    "        return np.nan                    # return Not-a-number\n",
    "    if n > 1:\n",
    "        return n*factRecursiveSafe(n-1)      # THIS IS THE RECURSION!!\n",
    "    elif n >= 0:\n",
    "        return 1\n",
    "    else:\n",
    "        return -np.inf                 # return negative infinit\n",
    "    \n",
    "print (factRecursiveSafe(10))\n",
    "print (factRecursiveSafe(-1))\n",
    "print (factRecursiveSafe(4.5))\n",
    "print (factRecursiveSafe('Joe'))\n",
    "\n",
    "\n",
    "x = factorial(5)   # old function still defined\n",
    "y = x**2\n",
    "print (y)"
   ]
  },
  {
   "cell_type": "code",
   "execution_count": null,
   "metadata": {},
   "outputs": [],
   "source": []
  }
 ],
 "metadata": {
  "kernelspec": {
   "display_name": "Python 3",
   "language": "python",
   "name": "python3"
  },
  "language_info": {
   "codemirror_mode": {
    "name": "ipython",
    "version": 3
   },
   "file_extension": ".py",
   "mimetype": "text/x-python",
   "name": "python",
   "nbconvert_exporter": "python",
   "pygments_lexer": "ipython3",
   "version": "3.8.3"
  }
 },
 "nbformat": 4,
 "nbformat_minor": 1
}
